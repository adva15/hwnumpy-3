{
 "cells": [
  {
   "cell_type": "code",
   "execution_count": 5,
   "id": "4881dee3-4cb3-4036-a558-12b547d2ea06",
   "metadata": {},
   "outputs": [],
   "source": [
    "import numpy as np"
   ]
  },
  {
   "cell_type": "code",
   "execution_count": 35,
   "id": "88858410-6f7a-4425-ad58-4a033eff28b6",
   "metadata": {},
   "outputs": [
    {
     "name": "stdout",
     "output_type": "stream",
     "text": [
      "[[48 61 39 84]\n",
      " [11 51  4 87]\n",
      " [24 16 82  6]\n",
      " [65 10 93 43]]\n"
     ]
    },
    {
     "data": {
      "text/plain": [
       "'rand_array > 50'"
      ]
     },
     "metadata": {},
     "output_type": "display_data"
    },
    {
     "data": {
      "text/plain": [
       "array([[False,  True, False,  True],\n",
       "       [False,  True, False,  True],\n",
       "       [False, False,  True, False],\n",
       "       [ True, False,  True, False]])"
      ]
     },
     "metadata": {},
     "output_type": "display_data"
    },
    {
     "data": {
      "text/plain": [
       "'nsum axis=0 columns:'"
      ]
     },
     "metadata": {},
     "output_type": "display_data"
    },
    {
     "data": {
      "text/plain": [
       "array([148, 138, 218, 220])"
      ]
     },
     "metadata": {},
     "output_type": "display_data"
    },
    {
     "data": {
      "text/plain": [
       "'nsum axis=1 rows:'"
      ]
     },
     "metadata": {},
     "output_type": "display_data"
    },
    {
     "data": {
      "text/plain": [
       "array([232, 153, 128, 211])"
      ]
     },
     "metadata": {},
     "output_type": "display_data"
    },
    {
     "data": {
      "text/plain": [
       "'sum axis=0 columns:max'"
      ]
     },
     "metadata": {},
     "output_type": "display_data"
    },
    {
     "data": {
      "text/plain": [
       "array([65, 61, 93, 87], dtype=int32)"
      ]
     },
     "metadata": {},
     "output_type": "display_data"
    },
    {
     "data": {
      "text/plain": [
       "'sum axis=1 rows:max'"
      ]
     },
     "metadata": {},
     "output_type": "display_data"
    },
    {
     "data": {
      "text/plain": [
       "array([84, 87, 82, 93], dtype=int32)"
      ]
     },
     "metadata": {},
     "output_type": "display_data"
    },
    {
     "data": {
      "text/plain": [
       "'sum axis=0 columns:min'"
      ]
     },
     "metadata": {},
     "output_type": "display_data"
    },
    {
     "data": {
      "text/plain": [
       "array([11, 10,  4,  6], dtype=int32)"
      ]
     },
     "metadata": {},
     "output_type": "display_data"
    },
    {
     "data": {
      "text/plain": [
       "'sum axis=1 rows:min'"
      ]
     },
     "metadata": {},
     "output_type": "display_data"
    },
    {
     "data": {
      "text/plain": [
       "array([39,  4,  6, 10], dtype=int32)"
      ]
     },
     "metadata": {},
     "output_type": "display_data"
    },
    {
     "data": {
      "text/plain": [
       "'sum axis=0 columns:mean'"
      ]
     },
     "metadata": {},
     "output_type": "display_data"
    },
    {
     "data": {
      "text/plain": [
       "array([37. , 34.5, 54.5, 55. ])"
      ]
     },
     "metadata": {},
     "output_type": "display_data"
    },
    {
     "data": {
      "text/plain": [
       "'sum axis=1 rows:mean'"
      ]
     },
     "metadata": {},
     "output_type": "display_data"
    },
    {
     "data": {
      "text/plain": [
       "array([58.  , 38.25, 32.  , 52.75])"
      ]
     },
     "metadata": {},
     "output_type": "display_data"
    }
   ],
   "source": [
    "np.random.seed(80)\n",
    "rand_array = np.random.randint(1, 100, (4, 4))\n",
    "print(rand_array)\n",
    "#a\n",
    "display('rand_array > 50', rand_array > 50)\n",
    "#b\n",
    "display('nsum axis=0 columns:', rand_array.sum(axis=0))\n",
    "display('nsum axis=1 rows:', rand_array.sum(axis=1))\n",
    "#c - np.min np.max np.mean השתמש בפונקציות\n",
    "#i \n",
    "display('sum axis=0 columns:max', rand_array.max(axis=0))\n",
    "display('sum axis=1 rows:max', rand_array.max(axis=1))\n",
    "#ii\n",
    "display('sum axis=0 columns:min', rand_array.min(axis=0))\n",
    "display('sum axis=1 rows:min', rand_array.min(axis=1))\n",
    "#iii\n",
    "display('sum axis=0 columns:mean', rand_array.mean(axis=0))\n",
    "display('sum axis=1 rows:mean', rand_array.mean(axis=1))"
   ]
  },
  {
   "cell_type": "code",
   "execution_count": null,
   "id": "41d5bf75-aa6f-4084-b78a-9dc1f7d0bc8b",
   "metadata": {},
   "outputs": [],
   "source": []
  }
 ],
 "metadata": {
  "kernelspec": {
   "display_name": "Python 3 (ipykernel)",
   "language": "python",
   "name": "python3"
  },
  "language_info": {
   "codemirror_mode": {
    "name": "ipython",
    "version": 3
   },
   "file_extension": ".py",
   "mimetype": "text/x-python",
   "name": "python",
   "nbconvert_exporter": "python",
   "pygments_lexer": "ipython3",
   "version": "3.12.5"
  }
 },
 "nbformat": 4,
 "nbformat_minor": 5
}
